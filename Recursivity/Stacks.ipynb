{
  "nbformat": 4,
  "nbformat_minor": 0,
  "metadata": {
    "colab": {
      "name": "Pilhas.ipynb",
      "provenance": [],
      "collapsed_sections": [],
      "authorship_tag": "ABX9TyPomdcUIkI0FRSOiLe/CYZ2",
      "include_colab_link": true
    },
    "kernelspec": {
      "name": "python3",
      "display_name": "Python 3"
    },
    "language_info": {
      "name": "python"
    }
  },
  "cells": [
    {
      "cell_type": "markdown",
      "metadata": {
        "id": "view-in-github",
        "colab_type": "text"
      },
      "source": [
        "<a href=\"https://colab.research.google.com/github/Nathan-Rgs/Desenvolvimento-Web/blob/main/Pilhas.ipynb\" target=\"_parent\"><img src=\"https://colab.research.google.com/assets/colab-badge.svg\" alt=\"Open In Colab\"/></a>"
      ]
    },
    {
      "cell_type": "markdown",
      "source": [
        "***PILHA ESTATICA***"
      ],
      "metadata": {
        "id": "CuDjj4V0ZB8C"
      }
    },
    {
      "cell_type": "code",
      "source": [
        "class Pilha:\n",
        "\n",
        "  def __init__(self, capacity) -> None:\n",
        "   self.top = -1\n",
        "   self.capacity = capacity\n",
        "   self.pilha = [None] * capacity # inicializa a pilha com o tamanho desejado\n",
        "\n",
        "#Função para inserir um elemento na pilha------------------------------------------------------------------------ \n",
        "  def push(self, data): \n",
        "\n",
        "   if self.capacity == self.top + 1: #Condição para a pilha cheia\n",
        "    print(\"Estouro de pilha\")\n",
        "    return\n",
        "\n",
        "   else: \n",
        "     self.top = self.top + 1\n",
        "     self.pilha[self.top] = data\n",
        "     return\n",
        "\n",
        "#Função para retornar e excluir um elemento da pilha------------------------------------------------------------------------ \n",
        "  def pop(self):\n",
        "   if self.top == -1: #Condição para a pilha vazia\n",
        "    print(\"Pilha vazia\")\n",
        "    return\n",
        "\n",
        "   temp = self.pilha[self.top]\n",
        "   self.top = self.top - 1\n",
        "   return temp\n",
        "\n",
        "#Função para retornar o tamanho da pilha------------------------------------------------------------------------ \n",
        "  def size(self):\n",
        "   return self.top+1 \n",
        "\n",
        "\n",
        "#Função para retornar se a pilha está vazia------------------------------------------------------------------------ \n",
        "  def isEmpty(self):\n",
        "   return self.top == -1\n",
        "\n",
        "\n",
        "#Função para retornar se a pilha está cheia------------------------------------------------------------------------ \n",
        "  def isFull(self):\n",
        "   return self.capacity == self.top + 1\n",
        "\n",
        "\n",
        "#Função para retornar o elemento do topo da pilha------------------------------------------------------------------------ \n",
        "  def getTop(self):\n",
        "\n",
        "   if self.isEmpty():#Caso a pilha esteja vazia\n",
        "    print(\"Pilha vazia\")\n",
        "    return None\n",
        "   return self.pilha[self.top]\n",
        "\n",
        "\n",
        "#Função para limpar a pilha------------------------------------------------------------------------ \n",
        "  def clear(self):\n",
        "   self.top = -1\n",
        " \n",
        "#Retorna uma string com as informacoes da pilha quando o objeto e chamado dentro de um print() ou dentro de um str()------------------------------------------------------------------------ \n",
        "  def __str__(self):\n",
        "   auxPilha = Pilha(self.capacity)# cria uma nova pilha auxiliar\n",
        " \n",
        "  # retira os elementos da pilha antiga e preenche a auxiliar com isso, a auxiliar sera preenchida em ordem\n",
        "   for i in range( self.top+1 ):\n",
        "    auxPilha.push( self.pop() )\n",
        " \n",
        "  # cria uma string com os elementos da pilha auxiliar e enquanto isso, preenche novamente a pilha original\n",
        "   strPilha = '['\n",
        "   for i in range( auxPilha.top+1 ):\n",
        "     top = auxPilha.pop() \n",
        "     self.push(top) # preenche a pilha original\n",
        "     strPilha += ' ' + str(top) # guarda o top em uma string\n",
        "   strPilha +=  ']'\n",
        "   return strPilha"
      ],
      "metadata": {
        "id": "5WsHFYl7EVDK"
      },
      "execution_count": null,
      "outputs": []
    },
    {
      "cell_type": "code",
      "source": [
        ""
      ],
      "metadata": {
        "id": "vJlaFUhAUc6l"
      },
      "execution_count": null,
      "outputs": []
    },
    {
      "cell_type": "code",
      "source": [
        "pilhinha = Pilha(10)\n",
        "pilhinha.push(47)\n",
        "pilhinha.push(30)\n",
        "pilhinha.push(69)\n",
        "\n",
        "print(pilhinha)"
      ],
      "metadata": {
        "colab": {
          "base_uri": "https://localhost:8080/"
        },
        "id": "J7-4KnNWRfik",
        "outputId": "74287488-58ce-42fe-d2f4-a1348e0d74a6"
      },
      "execution_count": null,
      "outputs": [
        {
          "output_type": "stream",
          "name": "stdout",
          "text": [
            "[ 47 30 69]\n"
          ]
        }
      ]
    },
    {
      "cell_type": "markdown",
      "source": [
        "***PILHA DINAMICA***"
      ],
      "metadata": {
        "id": "Yu2BQwffYz2j"
      }
    },
    {
      "cell_type": "code",
      "source": [
        "class Node:\n",
        " def __init__(self, data = None, next = None):\n",
        "  self.data = data\n",
        "  self.next = next\n",
        "\n",
        "\n",
        "\n",
        "class Pilha:\n",
        " def __init__(self, data = None):\n",
        "  self.head = None\n",
        "  self.tamanho = 0\n",
        "\n",
        "  if data is not None:\n",
        "   self.push(data)\n",
        "#------------------------------------------------------------------------ \n",
        " def push(self, data):\n",
        "   if self.head is None:\n",
        "    self.head = Node(data)\n",
        "\n",
        "   else:\n",
        "    temp = Node(data, self.head)\n",
        "  \n",
        "    self.head = temp\n",
        "\n",
        "    self.tamanho += 1\n",
        "\n",
        " def pop(self):\n",
        " \n",
        "   if self.head is None:\n",
        "    print(\"Pilha vazia\")\n",
        "    return None\n",
        "\n",
        "   data = self.head.data\n",
        "   self.head = self.head.next\n",
        "  \n",
        "   self.tamanho -= 1\n",
        "  \n",
        "   # iremos retornar apenas o dado do no, mas\n",
        "   # dependendo da necessidade, poderia ser\n",
        "   # retornado o no inteiro\n",
        "   return data\n",
        " \n",
        " def size(self):\n",
        "   return self.tamanho\n",
        "  \n",
        " def isEmpty(self):\n",
        "   return self.head is None    \n",
        "\n",
        " def getTop(self):\n",
        " \n",
        "  if self.head is None:\n",
        "   print(\"Pilha vazia\")\n",
        "   return None\n",
        " \n",
        "  # iremos retornar apenas o dado do no, mas\n",
        "  # dependendo da necessidade, poderia ser\n",
        "  # retornado o no inteiro\n",
        "  return self.head.data\n",
        " \n",
        " def imprimir(self):\n",
        "  auxPilha = self.pilha.copy()\n",
        "  for i in range( self.size() ):\n",
        "   print( str(self.getTop())+' ')\n",
        " \n",
        " def clear(self):\n",
        " \n",
        "  while not self.isEmpty():\n",
        "   data = self.pop()\n",
        " \n",
        " def __str__(self):\n",
        "  \"\"\"\n",
        "  Retorna uma string com as informacoes da pilha\n",
        "  quando o objeto e chamado dentro de um print()\n",
        "  ou dentro de um str().\n",
        "  \"\"\"\n",
        "  # cria uma nova pilha auxiliar\n",
        "  auxPilha = Pilha()\n",
        " \n",
        "  # retira os elementos da pilha antiga e preenche a auxiliar\n",
        " # com isso, a auxiliar sera preenchida em ordem reversa\n",
        "  while not self.isEmpty():\n",
        "    data = self.pop()\n",
        "    auxPilha.push( data )\n",
        " \n",
        "  # cria uma string com os elementos da pilha auxiliar e\n",
        " # enquanto isso, preenche novamente a pilha original\n",
        "  strPilha = '['\n",
        "  while not auxPilha.isEmpty():\n",
        " \n",
        "   top = auxPilha.pop()\n",
        " \n",
        "  # preenche a pilha original\n",
        "   self.push(top)\n",
        " \n",
        "  # guarda o top em uma string\n",
        "   strPilha += ' ' + str(top)\n",
        " \n",
        "   strPilha += ' ]'\n",
        " \n",
        "   return strPilha\n"
      ],
      "metadata": {
        "id": "v3DPCkZhY205"
      },
      "execution_count": null,
      "outputs": []
    }
  ]
}
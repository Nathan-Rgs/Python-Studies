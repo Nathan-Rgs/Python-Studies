{
  "nbformat": 4,
  "nbformat_minor": 0,
  "metadata": {
    "colab": {
      "name": "Pilhas.ipynb",
      "provenance": [],
      "collapsed_sections": [],
      "authorship_tag": "ABX9TyPjMFUYeyO+2ihk0KDZtfte",
      "include_colab_link": true
    },
    "kernelspec": {
      "name": "python3",
      "display_name": "Python 3"
    },
    "language_info": {
      "name": "python"
    }
  },
  "cells": [
    {
      "cell_type": "markdown",
      "metadata": {
        "id": "view-in-github",
        "colab_type": "text"
      },
      "source": [
        "<a href=\"https://colab.research.google.com/github/Nathan-Rgs/Python-Studies/blob/main/Stacks.ipynb\" target=\"_parent\"><img src=\"https://colab.research.google.com/assets/colab-badge.svg\" alt=\"Open In Colab\"/></a>"
      ]
    },
    {
      "cell_type": "markdown",
      "source": [
        "# **Pilhas**\n",
        "**Tipo LIFO (Last In, First Out)**"
      ],
      "metadata": {
        "id": "CuDjj4V0ZB8C"
      }
    },
    {
      "cell_type": "markdown",
      "source": [
        "Estrutura linear de dados que só pode ser\n",
        "acessada por uma de suas extremidades\n",
        "para armazenar e recuperar dados.\n",
        "\n",
        "* Novos elementos sempre entram no topo\n",
        "da pilha;\n",
        "* O único elemento que pode ser retirado da\n",
        "pilha em um dado momento é o elemento\n",
        "do topo;\n",
        "* A outra extremidade da pilha é chamada de\n",
        "base."
      ],
      "metadata": {
        "id": "Qao7_JnL14jE"
      }
    },
    {
      "cell_type": "markdown",
      "source": [
        "**Para que serve uma pilha?**\n",
        "\n",
        "Uma pilha serve para modelar situações em que é preciso guardar\n",
        "para mais tarde vários elementos e lembrar\n",
        "sempre do último elemento armazenado."
      ],
      "metadata": {
        "id": "XVVBAV5g16xb"
      }
    },
    {
      "cell_type": "markdown",
      "source": [
        "# **Pilha estática**\n",
        "Pilhas que tem seu tamanho fixo."
      ],
      "metadata": {
        "id": "wqctAzEN19q8"
      }
    },
    {
      "cell_type": "code",
      "source": [
        "class Pilha:\n",
        "\n",
        "  def __init__(self, capacity) -> None:\n",
        "   self.top = -1\n",
        "   self.capacity = capacity\n",
        "   self.pilha = [None] * capacity # inicializa a pilha com o tamanho desejado\n",
        "\n",
        "#Função para inserir um elemento na pilha------------------------------------------------------------------------ \n",
        "  def push(self, data): \n",
        "\n",
        "   if self.capacity == self.top + 1: #Condição para a pilha cheia\n",
        "    print(\"Estouro de pilha\")\n",
        "    return\n",
        "\n",
        "   else: \n",
        "     self.top = self.top + 1\n",
        "     self.pilha[self.top] = data\n",
        "     return\n",
        "\n",
        "#Função para retornar e excluir um elemento da pilha------------------------------------------------------------------------ \n",
        "  def pop(self):\n",
        "   if self.top == -1: #Condição para a pilha vazia\n",
        "    print(\"Pilha vazia\")\n",
        "    return\n",
        "\n",
        "   temp = self.pilha[self.top]\n",
        "   self.top = self.top - 1\n",
        "   return temp\n",
        "\n",
        "#Função para retornar o tamanho da pilha------------------------------------------------------------------------ \n",
        "  def size(self):\n",
        "   return self.top+1 \n",
        "\n",
        "\n",
        "#Função para retornar se a pilha está vazia------------------------------------------------------------------------ \n",
        "  def isEmpty(self):\n",
        "   return self.top == -1\n",
        "\n",
        "\n",
        "#Função para retornar se a pilha está cheia------------------------------------------------------------------------ \n",
        "  def isFull(self):\n",
        "   return self.capacity == self.top + 1\n",
        "\n",
        "\n",
        "#Função para retornar o elemento do topo da pilha------------------------------------------------------------------------ \n",
        "  def getTop(self):\n",
        "\n",
        "   if self.isEmpty():#Caso a pilha esteja vazia\n",
        "    print(\"Pilha vazia\")\n",
        "    return None\n",
        "   return self.pilha[self.top]\n",
        "\n",
        "\n",
        "#Função para limpar a pilha------------------------------------------------------------------------ \n",
        "  def clear(self):\n",
        "   self.top = -1\n",
        " \n",
        "#Retorna uma string com as informacoes da pilha quando o objeto e chamado dentro de um print() ou dentro de um str()------------------------------------------------------------------------ \n",
        "  def __str__(self):\n",
        "   auxPilha = Pilha(self.capacity)# cria uma nova pilha auxiliar\n",
        " \n",
        "  # retira os elementos da pilha antiga e preenche a auxiliar com isso, a auxiliar sera preenchida em ordem\n",
        "   for i in range( self.top+1 ):\n",
        "    auxPilha.push( self.pop() )\n",
        " \n",
        "  # cria uma string com os elementos da pilha auxiliar e enquanto isso, preenche novamente a pilha original\n",
        "   strPilha = '['\n",
        "   for i in range( auxPilha.top+1 ):\n",
        "     top = auxPilha.pop() \n",
        "     self.push(top) # preenche a pilha original\n",
        "     strPilha += ' ' + str(top) # guarda o top em uma string\n",
        "   strPilha +=  ']'\n",
        "   return strPilha"
      ],
      "metadata": {
        "id": "5WsHFYl7EVDK"
      },
      "execution_count": null,
      "outputs": []
    },
    {
      "cell_type": "markdown",
      "source": [
        "Testando a pilha:\n"
      ],
      "metadata": {
        "id": "J2-dMZqWXyOx"
      }
    },
    {
      "cell_type": "code",
      "source": [
        "Pilha1 = Pilha(10)\n",
        "Pilha1.push(47)\n",
        "Pilha1.push(30)\n",
        "Pilha1.push(69)\n",
        "\n",
        "print(Pilha1)"
      ],
      "metadata": {
        "colab": {
          "base_uri": "https://localhost:8080/"
        },
        "id": "J7-4KnNWRfik",
        "outputId": "74287488-58ce-42fe-d2f4-a1348e0d74a6"
      },
      "execution_count": null,
      "outputs": [
        {
          "output_type": "stream",
          "name": "stdout",
          "text": [
            "[ 47 30 69]\n"
          ]
        }
      ]
    },
    {
      "cell_type": "code",
      "source": [
        "Pilha1.pop()"
      ],
      "metadata": {
        "id": "qvijLPNA0LUa"
      },
      "execution_count": null,
      "outputs": []
    },
    {
      "cell_type": "code",
      "source": [
        "Pilha1.push(69)\n",
        "Pilha1.push(69)"
      ],
      "metadata": {
        "id": "XrVMDqW60LsQ"
      },
      "execution_count": null,
      "outputs": []
    },
    {
      "cell_type": "code",
      "source": [
        "Pilha1.clear()\n",
        "print(Pilha1)"
      ],
      "metadata": {
        "id": "Rn-BBDIX0jgl"
      },
      "execution_count": null,
      "outputs": []
    },
    {
      "cell_type": "markdown",
      "source": [
        "# **Pilha Dinâmica**\n",
        "\n",
        "Pilhas que não tem seu tamanho fixo."
      ],
      "metadata": {
        "id": "JXTcgRlhVtvF"
      }
    },
    {
      "cell_type": "code",
      "source": [
        "# Nó de conexão da pilha - Responsável por conecetar os itens que integram a pilha.\n",
        "class Node:\n",
        "    def __init__(self, data = None, next = None):\n",
        "        self.data = data\n",
        "        self.next = next\n",
        "\n",
        "# Criando a classe de pilha dinâmica\n",
        "class Pilha:\n",
        "    \n",
        "    def __init__(self, data  = None):\n",
        "        self.head = None\n",
        "        self.tamanho = 0\n",
        "        \n",
        "        if data is not None:\n",
        "            self.push(data)\n",
        "\n",
        "#Função para inserir um elemento na pilha------------------------------------------------------------------------ \n",
        "    def push(self, data):\n",
        "       \n",
        "        if self.head is None: # se a pilha esta vazia, o element head ira receber o novo noh. Mas, ele ira apontar para None, pois nao existia nenhum noh antes\n",
        "            self.head = Node(data)\n",
        "            \n",
        "        else: # Cria um novo noh com o dado informado e que sera usado como novo topo.Esse novo noh ira apontar para o noh que era o topo antes\n",
        "            temporario = Node(data, self.head)\n",
        "            self.head = temporario # substitui o topo pelo novo noh\n",
        "        \n",
        "        self.tamanho += 1\n",
        "\n",
        "\n",
        "#Função para retorna e remover o elemento do topo da pilha------------------------------------------------------------------------ \n",
        "    def pop(self):\n",
        "        \n",
        "        if self.head is None: # Se a pilha estiver vazia\n",
        "            print(\"Pilha vazia\")\n",
        "            return None\n",
        "        \n",
        "        data = self.head.data # Obtem o valor do topo da pilha no nó\n",
        "        self.head = self.head.next # O número que ele aponta no nó vira o topo\n",
        "        self.tamanho -= 1 # Diminui um do tamnho da pilha\n",
        "\n",
        "        return data # Retorna o item do topo da pilha\n",
        "\n",
        "\n",
        "#Função para retornar a quantidade de elementos da pilha------------------------------------------------------------------------     \n",
        "    def size(self):\n",
        "        return self.tamanho\n",
        "\n",
        "\n",
        "#Função para retornar se a pilha está vazia------------------------------------------------------------------------  \n",
        "    def isEmpty(self):\n",
        "        return self.head is None #O meu topo é None?(True/False)\n",
        "\n",
        "\n",
        "#Função para retornar o topo da pilha------------------------------------------------------------------------ \n",
        "    def getTop(self):\n",
        "        if self.head is None:\n",
        "            print(\"Pilha vazia\")\n",
        "            return None\n",
        "\n",
        "        return self.head.data\n",
        "\n",
        "\n",
        "#Limpa a pilha------------------------------------------------------------------------             \n",
        "    def clear(self):\n",
        "        while not self.isEmpty():\n",
        "            data = self.pop()\n",
        "\n",
        "\n",
        "#Retorna uma string com as informacoes da pilha quando o objeto e chamado dentro de um print() ou dentro de um str()------------------------------------------------------------------------    \n",
        "    def __str__(self):\n",
        "       \n",
        "        auxPilha = Pilha()# cria uma nova pilha auxiliar\n",
        "        \n",
        "        while not self.isEmpty(): # retira os elementos da pilha antiga e preenche a auxiliar com isso, a auxiliar sera preenchida em ordem reversa\n",
        "            data = self.pop()\n",
        "            auxPilha.push( data )\n",
        "            \n",
        "        strPilha = '['   \n",
        "        while not auxPilha.isEmpty(): # cria uma string com os elementos da pilha auxiliar e enquanto isso, preenche novamente a pilha original\n",
        "            top = auxPilha.pop()\n",
        "            self.push(top) # preenche a pilha original\n",
        "            strPilha += ' ' + str(top) # guarda o top em uma string\n",
        "            \n",
        "        strPilha += ' ]'\n",
        "        \n",
        "        return strPilha"
      ],
      "metadata": {
        "id": "v3DPCkZhY205"
      },
      "execution_count": null,
      "outputs": []
    },
    {
      "cell_type": "code",
      "source": [
        "pilha = Pilha()\n",
        "\n",
        "pilha.push(5)\n",
        "print(pilha)\n",
        "\n",
        "pilha.push(3)\n",
        "print(pilha)\n",
        "\n",
        "pilha.push(9)\n",
        "print(pilha)"
      ],
      "metadata": {
        "id": "KLx1MxmG1PMd"
      },
      "execution_count": null,
      "outputs": []
    },
    {
      "cell_type": "code",
      "source": [
        "print( 'Size: ', pilha.size() )"
      ],
      "metadata": {
        "id": "kk26GDGe1Sp8"
      },
      "execution_count": null,
      "outputs": []
    },
    {
      "cell_type": "code",
      "source": [
        "valor = pilha.pop()\n",
        "print('Valor retirado: ',valor)\n",
        "print(pilha)"
      ],
      "metadata": {
        "id": "QKoNfnD31UV0"
      },
      "execution_count": null,
      "outputs": []
    },
    {
      "cell_type": "code",
      "source": [
        "valor = pilha.pop()\n",
        "print('Valor retirado: ',valor)\n",
        "print(pilha)\n",
        "\n",
        "print( 'Vazia? ', pilha.isEmpty() )"
      ],
      "metadata": {
        "id": "IsOq2A_Y1WCl"
      },
      "execution_count": null,
      "outputs": []
    },
    {
      "cell_type": "code",
      "source": [
        "valor = pilha.pop()\n",
        "print('Valor retirado: ',valor)\n",
        "print(pilha)\n",
        "\n",
        "print( 'Vazia? ', pilha.isEmpty() )"
      ],
      "metadata": {
        "id": "XtPS0EMO1Yac"
      },
      "execution_count": null,
      "outputs": []
    },
    {
      "cell_type": "code",
      "source": [
        "valor = pilha.pop()\n",
        "print('Valor retirado: ',valor)\n",
        "print(pilha)"
      ],
      "metadata": {
        "id": "tHGWdOnA1ar0"
      },
      "execution_count": null,
      "outputs": []
    },
    {
      "cell_type": "code",
      "source": [
        "pilha.push(2)\n",
        "print(pilha)\n",
        "\n",
        "pilha.push(14)\n",
        "print(pilha)\n",
        "\n",
        "print( 'Vazia? ', pilha.isEmpty() )\n",
        "\n",
        "pilha.clear()\n",
        "print( 'Vazia? ', pilha.isEmpty() )"
      ],
      "metadata": {
        "id": "oFdRX0Hl1cWc"
      },
      "execution_count": null,
      "outputs": []
    },
    {
      "cell_type": "markdown",
      "source": [
        "# ***Filas***\n",
        "**Tipo FIFO (First In, First Out)**"
      ],
      "metadata": {
        "id": "nanjvwU9ZPFo"
      }
    },
    {
      "cell_type": "markdown",
      "source": [
        "Estrutura linear de dados que cresce somando elementos ao final\n",
        "ou diminui removendo elementos à sua frente.\n",
        "\n",
        "* Novos elementos sempre entram no final da fila;\n",
        "* O único elemento que se pode retirar da fila é seu primeiro elemento.\n",
        "\n",
        "\n",
        "**Para que serve?**\n",
        "\n",
        "Modelar situações em que é preciso armazenar um conjunto de\n",
        "elementos, no qual o primeiro elemento a entrar no conjunto será\n",
        "também o primeiro elemento a sair do conjunto."
      ],
      "metadata": {
        "id": "oPE-qtrEZRFX"
      }
    },
    {
      "cell_type": "markdown",
      "source": [
        "# **Fila estática**\n",
        "Filas que tem seu tamanho fixo."
      ],
      "metadata": {
        "id": "YmhHgEMbaLkI"
      }
    },
    {
      "cell_type": "code",
      "source": [
        ""
      ],
      "metadata": {
        "id": "2HnSTuUJ2bqR"
      },
      "execution_count": null,
      "outputs": []
    },
    {
      "cell_type": "markdown",
      "source": [
        "# **Fila Dinâmica**\n",
        "\n",
        "Filas que não tem seu tamanho fixo."
      ],
      "metadata": {
        "id": "L41SZOSbaD9J"
      }
    }
  ]
}
{
  "cells": [
    {
      "cell_type": "markdown",
      "metadata": {
        "id": "view-in-github",
        "colab_type": "text"
      },
      "source": [
        "<a href=\"https://colab.research.google.com/github/Nathan-Rgs/Python-Studies/blob/main/Test_AC1_Recursivity.ipynb\" target=\"_parent\"><img src=\"https://colab.research.google.com/assets/colab-badge.svg\" alt=\"Open In Colab\"/></a>"
      ]
    },
    {
      "cell_type": "markdown",
      "metadata": {
        "id": "6B3Is7KyGImX"
      },
      "source": [
        "# <center><b>Centro Universitário Facens</b></center>\n",
        "<br/>\n",
        "<font size=\"5\"><center><b>Estrutura de Dados</b></center></font>\n",
        "  \n",
        "<font size=\"3\"><center>Prof. Renato M. Silva e Prof. Johannes V. Lochter</center></font>\n",
        "<br/>\n",
        "<br/>"
      ]
    },
    {
      "cell_type": "markdown",
      "metadata": {
        "id": "R3ccjKmuGImd"
      },
      "source": [
        "----\n",
        "| Nome                          |      RA             | \n",
        "|:-                             |:-------------------:|\n",
        "| Nathan Roberto Gonçalves dos Santos         | 200065 |\n"
      ]
    },
    {
      "cell_type": "markdown",
      "metadata": {
        "id": "1YBVWlPIGIme"
      },
      "source": [
        "### Instruções\n",
        "\n",
        "1. Altere apenas a região onde está escrito \"ESCREVA SEU CÓDIGO AQUI\".\n",
        "\n",
        "1. Em todos os exercícios, há uma resposta esperada que serve como um guia para indicar se seu exercício está retornando o que é esperado. Porém, mesmo que seu exercício esteja retornando a resposta esperada, isso não garante que ele foi feito de maneira correta. \n",
        "\n",
        "1. Leia atentamente a descrição dos exercícios para garantir que você está executando o que foi pedido. Se o exercício informar o nome de classes, funções ou variáveis, você deve usar esses nomes exatamente como informado, incluindo letras minúsculas ou maiúsculas. \n",
        "\n",
        "1. Depois que você finalizar os exercícios, para ter certeza que seus códigos não possuem erro, reinicie o kernel do Jupyter e execute todas as células. Isto pode ser feito com a opção Kernel >> Restart & Run All. \n",
        "\n",
        "1. Não use nenhuma biblioteca do Python, a não ser que a permissão esteja explicitamente indicada na descrição do exercício. Na dúvida, consulte seu professor.\n",
        "\n",
        "1. Siga boas práticas de programação:\n",
        "    - dar nomes intuitivos para as variáveis\n",
        "    - dar nomes intuitivos para as funções\n",
        "\n",
        "1. Cuidado com plágio. Se for detectado plágio, a punição será  dada para  todos os envolvidos: todos do grupo que copiou e todos do grupo que forneceu a cópia. "
      ]
    },
    {
      "cell_type": "markdown",
      "metadata": {
        "id": "UbVHx4bxGImf"
      },
      "source": [
        "## Exercício 1\n",
        "\n",
        "Crie uma classe chamada **CalcCientifica** que tenha o seguinte atributo: \n",
        " - numero -> guarda um número \n",
        " \n",
        "O método construtor da classe deverá receber como argumento de entrada o atributo indicado acima. \n",
        "\n",
        "A classe também deve ter is seguintes métodos: \n",
        "\n",
        " - potencia -> retorna o atributo **numero** da classe elevado a um expoente.\n",
        "\n",
        "     - esse método deve receber um parâmetro chamado **expoente** que deve ser opcional e possui valor **default** igual a 2.  Esse parâmetro receberá o expoente da potenciação. No Python, para você fazer b elevado a c, você pode usar ```b**c```. \n",
        "     \n",
        " - raiz -> retorna a raiz do atributo **numero** da classe. \n",
        "\n",
        "     - esse método deve receber um parâmetro chamado **indice** que deve ser opcional e possui valor **default** igual a 2.  Esse parâmetro receberá o índice da raiz. Lembre-se que para fazer o cálculo da raiz, você pode usar potenciação: $\\sqrt[b]{a}$ é o mesmo que $a^{\\frac{1}{b}}$.  \n",
        "\n",
        " - fatorial -> retorna o fatorial do atributo **numero** da classe. O código de método pode ser igual ao código mostrados na aula de recursividade da disciplina. "
      ]
    },
    {
      "cell_type": "code",
      "execution_count": null,
      "metadata": {
        "id": "_tUg0X1tGImg",
        "colab": {
          "base_uri": "https://localhost:8080/"
        },
        "outputId": "a0f727c3-cc55-433d-91a1-2723b09c0883"
      },
      "outputs": [
        {
          "output_type": "stream",
          "name": "stdout",
          "text": [
            "Resultado esperado: \n",
            "\tRaiz quadrada de 9: 3\n",
            "\t9 elevado a 2: 81\n",
            "\tFatorial de 9: 362880\n",
            "\n",
            "\n",
            "\tRaiz cubica de 8: 2\n",
            "\t8 elevado a 4: 4096\n",
            "\tFatorial de 8: 40320\n",
            "\n",
            "--------------------\n",
            "Resultado retornado: \n",
            "\tRaiz quadrada de 9: 3\n",
            "\t9 elevado a 2: 81\n",
            "\tFatorial de 9: 362880\n",
            "\n",
            "\tRaiz cubica de 8: 2\n",
            "\t8 elevado a 4: 4096\n",
            "\tFatorial de 8: 40320\n"
          ]
        }
      ],
      "source": [
        "################# ESCREVA SEU CÓDIGO AQUI  ###############################\n",
        "\n",
        "class CalcCientifica():\n",
        "  \n",
        "  def __init__(self, numero = 0):\n",
        "\n",
        "    self.numero = numero\n",
        "\n",
        "  def potencia(self, expoente = 2):\n",
        "    potencia = self.numero**expoente\n",
        "\n",
        "    return potencia\n",
        "\n",
        "  def raiz(self, indice = 2):\n",
        "    expoente = 1/indice\n",
        "\n",
        "    return self.numero**expoente      \n",
        "    \n",
        "  def fatorial(self):\n",
        "    \n",
        "    if self.numero < 2:\n",
        "      return 1\n",
        "\n",
        "    else:\n",
        "      valor = self.numero\n",
        "      self.numero -= 1\n",
        "      resultado = valor * self.fatorial()\n",
        "      return resultado\n",
        "      \n",
        "##########################################################################\n",
        "\n",
        "# testando a classe criada\n",
        "num1 = 9\n",
        "num2 = 8\n",
        "\n",
        "# cria dois objetos - um para cada numero\n",
        "calc1 = CalcCientifica(num1)\n",
        "calc2 = CalcCientifica(num2)\n",
        "\n",
        "# calcula a raiz quadra \n",
        "raiz1 = calc1.raiz()\n",
        "raiz2 = calc2.raiz(indice=3)\n",
        "\n",
        "# calcula a raiz quadra \n",
        "potencia1 = calc1.potencia()\n",
        "potencia2 = calc2.potencia(expoente=4)\n",
        "\n",
        "# calcula o fatorial\n",
        "fact1 = calc1.fatorial()\n",
        "fact2 = calc2.fatorial()\n",
        "\n",
        "print('Resultado esperado: ')\n",
        "print('\\tRaiz quadrada de 9: 3')\n",
        "print('\\t9 elevado a 2: 81')\n",
        "print('\\tFatorial de 9: 362880')\n",
        "\n",
        "print('\\n\\n\\tRaiz cubica de 8: 2')\n",
        "print('\\t8 elevado a 4: 4096')\n",
        "print('\\tFatorial de 8: 40320')\n",
        "\n",
        "print('\\n' + 20*'-')\n",
        "print('Resultado retornado: ' )\n",
        "print('\\tRaiz quadrada de %d: %d' %(num1,raiz1))\n",
        "print('\\t%d elevado a 2: %d' %(num1,potencia1))\n",
        "print('\\tFatorial de %d: %d' %(num1,fact1))\n",
        "\n",
        "print('\\n\\tRaiz cubica de %d: %d' %(num2,raiz2))\n",
        "print('\\t%d elevado a 4: %d' %(num2,potencia2))\n",
        "print('\\tFatorial de %d: %d' %(num2,fact2))"
      ]
    },
    {
      "cell_type": "markdown",
      "metadata": {
        "id": "gxOKfvivGImj"
      },
      "source": [
        "## Exercício 2 \n",
        "\n",
        "Crie uma função **recursiva** com o seguinte nome: **retornaImpares**. Essa função deve receber um número digitado como parâmetro e retornar uma **string** com todos os números ímpares de 0 até o número digitado separados por um espaço em branco. Por exemplo, ser for passado o número 8 como entrada, deve retornar: \"1 3 5 7\"."
      ]
    },
    {
      "cell_type": "code",
      "execution_count": null,
      "metadata": {
        "id": "EQPxGr3fGImj",
        "colab": {
          "base_uri": "https://localhost:8080/"
        },
        "outputId": "387ff2c4-5a42-419e-e5c3-ac87f632cfa1"
      },
      "outputs": [
        {
          "output_type": "stream",
          "name": "stdout",
          "text": [
            "Resultado esperado:\n",
            "\t1 3 5 7\n",
            "\n",
            "--------------------\n",
            "Resultado retornado:\n",
            "\t 1 3 5 7\n",
            "\n",
            "Atenção! Seu resultado foi diferente do que era esperado\n"
          ]
        }
      ],
      "source": [
        "################# ESCREVA SEU CÓDIGO AQUI  ###############################\n",
        "\n",
        "def retornaImpares (num, aux = 0):\n",
        "\n",
        "  if (num == aux):\n",
        "    return \"\"  \n",
        "\n",
        "  if (aux%2 != 0):\n",
        "    return str(aux) + retornaImpares(num, aux+1)\n",
        "  else :\n",
        "    return \" \" + retornaImpares(num, aux+1)\n",
        "\n",
        "##########################################################################\n",
        "\n",
        "# testando a função criada\n",
        "impares = retornaImpares(8)\n",
        "\n",
        "print('Resultado esperado:')\n",
        "print('\\t1 3 5 7')\n",
        "\n",
        "print('\\n' + 20*'-')\n",
        "print('Resultado retornado:')\n",
        "print('\\t'+impares)\n",
        "\n",
        "if impares != '1 3 5 7' and impares != '1 3 5 7 ':\n",
        "    print('\\nAtenção! Seu resultado foi diferente do que era esperado')"
      ]
    },
    {
      "cell_type": "markdown",
      "metadata": {
        "id": "p4DWEU7YGImk"
      },
      "source": [
        "## Exercício 3\n",
        "\n",
        "Faça uma função chamada **contaPalavras**. Essa função deve receber uma lista como entrada. \n",
        "\n",
        "Cada elemento da lista recebida pela função é uma outra lista de palavras. \n",
        "\n",
        "A função deve retornar o total de palavras sem contar as repetições, a palavra que mais se repetiu e a palavra que menos repetiu."
      ]
    },
    {
      "cell_type": "code",
      "execution_count": null,
      "metadata": {
        "id": "bQmKYhjvGIml",
        "colab": {
          "base_uri": "https://localhost:8080/"
        },
        "outputId": "2924732a-3ea1-4b07-f1b9-11f66bc5aa66"
      },
      "outputs": [
        {
          "output_type": "stream",
          "name": "stdout",
          "text": [
            "Resultado esperado:\n",
            "\tTotal: 5\n",
            "\tPalavra que mais repetiu: Chade\n",
            "\tPalavra que menos repetiu: Eritreia\n",
            "\n",
            "--------------------\n",
            "Resultado retornado:\n",
            "\tTotal: 5\n",
            "\tPalavra que mais repetiu: Chade\n",
            "\tPalavra que menos repetiu: Eritreia\n"
          ]
        }
      ],
      "source": [
        "################# ESCREVA SEU CÓDIGO AQUI  ###############################\n",
        "\n",
        "def contaPalavras (lista_base):\n",
        "\n",
        "  lista = []\n",
        "  for i in range(len(lista_base)):\n",
        "    for j in range(len(lista_base[i])):\n",
        "      lista.append(lista_base[i][j])\n",
        "\n",
        "  total = 0\n",
        "\n",
        "  #mais aparece\n",
        "  mais = lista[0]\n",
        "  maiorFrequencia = 0\n",
        "  for palavra in lista:\n",
        "        frequencia = lista.count(palavra)\n",
        "        if(frequencia > maiorFrequencia):\n",
        "            maiorFrequencia = frequencia\n",
        "            mais = palavra\n",
        "  \n",
        "  #menos aparece\n",
        "  menos = lista[0]\n",
        "  menorFrequencia = len(lista)\n",
        "  for palavra in lista:\n",
        "        frequencia = lista.count(palavra)\n",
        "        if(frequencia < menorFrequencia):\n",
        "            menorFrequencia = frequencia\n",
        "            menos = palavra\n",
        "  \n",
        "  #quantidade de palavras diferentes\n",
        "  lista_unica = []\n",
        "  for palavra in lista:\n",
        "    if (lista_unica.count(palavra) == 0):\n",
        "      lista_unica.append(palavra)\n",
        "\n",
        "  return len(lista_unica), mais, menos\n",
        "\n",
        "##########################################################################\n",
        "\n",
        "# testando a função criada\n",
        "lista = [\n",
        "    ['Angola','Chade','Gana'],\n",
        "    ['Chade','Angola','Gana','Togo'],\n",
        "    ['Togo','Gana','Chade','Eritreia'],\n",
        "    ['Chade','Togo','Angola']\n",
        "]\n",
        "\n",
        "total, maisRepetida, menosRepetida = contaPalavras(lista)\n",
        "\n",
        "print('Resultado esperado:')\n",
        "print('\\tTotal: 5') \n",
        "print('\\tPalavra que mais repetiu: Chade') \n",
        "print('\\tPalavra que menos repetiu: Eritreia') \n",
        "\n",
        "print('\\n' + 20*'-')\n",
        "print('Resultado retornado:')\n",
        "print('\\tTotal: %d' %(total)) \n",
        "print('\\tPalavra que mais repetiu: %s' %(maisRepetida)) \n",
        "print('\\tPalavra que menos repetiu: %s' %(menosRepetida)) "
      ]
    },
    {
      "cell_type": "markdown",
      "metadata": {
        "id": "y02Zj7hNGImm"
      },
      "source": [
        "## Exercício 4\n",
        "\n",
        "Crie uma função **recursiva** com o seguinte nome: **retornaMenor**. Essa função deve receber uma lista como parâmetro e retornar o menor número. "
      ]
    },
    {
      "cell_type": "code",
      "execution_count": null,
      "metadata": {
        "id": "ntxL3cbIGImn",
        "colab": {
          "base_uri": "https://localhost:8080/"
        },
        "outputId": "15b43dad-e918-431e-c225-5f77906dec9a"
      },
      "outputs": [
        {
          "output_type": "stream",
          "name": "stdout",
          "text": [
            "Resultado esperado: 2\n",
            "\n",
            "--------------------\n",
            "Resultado retornado: 2\n"
          ]
        }
      ],
      "source": [
        "################# ESCREVA SEU CÓDIGO AQUI  ###############################\n",
        "\n",
        "def retornaMenor(lista, numero = 0, exec = 0):\n",
        "  \n",
        "  if len(lista) == 1:\n",
        "    return numero\n",
        "  if len(lista) > 0:\n",
        "    if numero == 0 and exec == 0:\n",
        "      numero = lista[0]\n",
        "    exec += 1  \n",
        "    menor = lista[len(lista)-1]\n",
        "    if menor < numero:\n",
        "      return retornaMenor(lista[:len(lista)-1],menor)\n",
        "    elif numero < menor:\n",
        "      return retornaMenor(lista[:len(lista)-1],numero)\n",
        "    else:\n",
        "      return retornaMenor(lista[:len(lista)-1],menor)\n",
        "\n",
        "##########################################################################\n",
        "\n",
        "# testando a função criada\n",
        "lista = [10,6,2,9,8,23,5]\n",
        "menor = retornaMenor(lista)\n",
        "\n",
        "print('Resultado esperado: 2')\n",
        "\n",
        "print('\\n' + 20*'-')\n",
        "print('Resultado retornado: %d' %(menor) )"
      ]
    },
    {
      "cell_type": "markdown",
      "metadata": {
        "id": "MuofjHwmGImo"
      },
      "source": [
        "## Exercício 5\n",
        "\n",
        "A empresa “Organizações Tabajaras” precisa de um sistema que faça o controle da folha de pagamento de seus funcionários. \n",
        "\n",
        "Para isso, você deve criar uma classe chamada **Funcionario** que tenha os seguintes atributos: \n",
        " - nomeFuncionario -> guarda o nome do funcionário\n",
        " - departamento -> guarda o departamento\n",
        " - salarioBruto -> guarda o salário bruto\n",
        " - anoEntrada -> guarda o ano de entrada na empresa\n",
        " - anoSaida -> guarda o ano atual ou o ano em que o funcionário saiu da empresa \n",
        " - rg -> guarda o RG\n",
        " - statusEmprego -> valor booleano que indica se o funcionário ainda está trabalhando na empresa ou se já foi demitido\n",
        " - dependentes -> quantos dependentes o funcionário possui.\n",
        " \n",
        "O método construtor da classe deverá receber como argumento de entrada todos os atributos indicados acima. Todos eles deverão ser recebidos como atributo obrigatório, exceto os atributos **statusEmprego** e **anoSaida**. O parâmetro associado ao atributo **statusEmprego** deve ser opcional e ter valor *default* igual a **True**. O parâmetro associado ao atributo **anoDemissao** deve ser opcional e ter valor *default* igual a **0**. Na função construtora, caso o parâmetro associado ao atributo **anoDemissao** seja diferente de 0, o atributo **anoDemissao** deve receber o valor informado; senão, deve receber o ano atual.  Para obter o ano atual, você pode usar a biblioteca **datetime** do Python. Veja um exemplo onde a biblioteca **datetime** é usada para calcular o ano em que estamos:\n",
        "\n",
        "```\n",
        "import datetime\n",
        "\n",
        "date = datetime.date.today()\n",
        "year = date.strftime(\"%Y\")\n",
        "year = int(year)\n",
        "\n",
        "print(\"Ano atual: \", year)\n",
        "```\n",
        "\n",
        "A classe também deve ter is seguintes métodos: \n",
        "\n",
        " - calcSalarioLiquido -> cálcula o salário líquido do funcionário (recebe R\\\\$ 20,00 por dependente; depois, é descontado um imposto de 3\\% para funcionários que ganham até R$ 1000,00 e 5% acima deste valor);\n",
        "\n",
        " - calcTempoServico -> cálcula o tempo de serviço do funcionário na empresa com base no ano de entrada na empresa e ano atual.\n",
        "\n",
        " - calcAumento -> calcula o aumento de salário. O cálculo de aumento de salário (com base no salário bruto) é realizado de acordo com os seguintes dados:\n",
        " \n",
        "   - Tempo de Serviço menor que 5 anos – o percentual equivale a 5%\n",
        "    \n",
        "   - Tempo de Serviço maior que 5 anos – o percentual equivale a 8%\n",
        "   \n",
        " - retornaInfo -> retorna uma string com os valores de todos dos atributos da classe. Essa string deve conter também o tempo de serviço, salário líquido e aumento de salário obtidos por meio da chamada das respectivas funções. "
      ]
    },
    {
      "cell_type": "code",
      "execution_count": null,
      "metadata": {
        "id": "doF6OxO8GImp",
        "colab": {
          "base_uri": "https://localhost:8080/"
        },
        "outputId": "06f0e03f-1fe8-4662-f520-ebab04a2d8a1"
      },
      "outputs": [
        {
          "output_type": "stream",
          "name": "stdout",
          "text": [
            "Resultado esperado: \n",
            "\t O funcionário está empregado?: True\n",
            "\t Salario Liquido: 4845.00\n",
            "\t Tempo de serviço: 22 anos\n",
            "\t Aumento: 400.00\n",
            "\n",
            "\tString retornada pelo método imprimir(): \n",
            "\n",
            "--------------------\n",
            "Resultado retornado: \n",
            "\t O funcionário está empregado?: True\n",
            "\t Salario Liquido: 4845.00\n",
            "\t Tempo de serviço: 22 anos\n",
            "\t Aumento: 400.00\n",
            "\n",
            "Informacoes da classe retornadas pela método retornaInfo: \n",
            "\t Nome: Pedro Cardoso \n",
            "\t Departamento: TI \n",
            "\t Salario Bruto: 5000.00 \n",
            "\t Ano de Entrada: 2000 \n",
            "\t Ano de Saída: 2022 \n",
            "\t RG: 192528 \n",
            "\t Dependentes: 5 \n",
            "\t Está empregado: True \n",
            "\t Salario Liquido: 4845.00 \n",
            "\t Tempo de Serviço: 22 anos \n",
            "\t Aumento: 400.00\n"
          ]
        }
      ],
      "source": [
        "################# ESCREVA SEU CÓDIGO AQUI  ###############################\n",
        "      \n",
        "import datetime\n",
        "\n",
        "class Funcionario():\n",
        "  \n",
        "  def __init__(self, nomeFuncionario, departamento, salarioBruto, anoEntrada, rg, dependentes, anoSaida = 0, statusEmprego = True):\n",
        "\n",
        "    self.nomeFuncionario = nomeFuncionario\n",
        "    self.departamento = departamento\n",
        "    self.salarioBruto = salarioBruto\n",
        "    self.anoEntrada = anoEntrada\n",
        "    self.rg = rg\n",
        "    self.statusEmprego = statusEmprego\n",
        "    self.dependentes = dependentes\n",
        "\n",
        "    if anoSaida != 0:\n",
        "      self.anoSaida = anoSaida\n",
        "    else:\n",
        "      date = datetime.date.today()\n",
        "      self.anoSaida = date.strftime(\"%Y\")\n",
        "      self.anoSaida = int(self.anoSaida)\n",
        "\n",
        "  def calcSalarioLiquido(self):\n",
        "    if self.salarioBruto > 1000:\n",
        "      return (self.salarioBruto+(self.dependentes * 20))*0.95\n",
        "    else:\n",
        "      return (self.salarioBruto+(self.dependentes * 20))*0.97\n",
        "    \n",
        "  def calcTempoServico(self):    \n",
        "    return self.anoSaida-self.anoEntrada\n",
        "\n",
        "  def calcAumento(self):\n",
        "    if self.calcTempoServico() < 5:\n",
        "      return self.salarioBruto*0.05\n",
        "    else:\n",
        "      return self.salarioBruto*0.08\n",
        "\n",
        "  def retornaInfo(self):\n",
        "    return \"\\t Nome: %s \\n\\t Departamento: %s \\n\\t Salario Bruto: %1.2f \\n\\t Ano de Entrada: %d \\n\\t Ano de Saída: %d \\n\\t RG: %s \\n\\t Dependentes: %d \\n\\t Está empregado: %s \\n\\t Salario Liquido: %1.2f \\n\\t Tempo de Serviço: %d anos \\n\\t Aumento: %1.2f\"%(self.nomeFuncionario,self.departamento,self.salarioBruto,self.anoEntrada,self.anoSaida,self.rg,self.dependentes,self.statusEmprego,self.calcSalarioLiquido(),self.calcTempoServico(),self.calcAumento())\n",
        "    \n",
        "  \n",
        "##########################################################################\n",
        "\n",
        "# testando a classe criada\n",
        "nome = \"Pedro Cardoso\"\n",
        "departamento = \"TI\"\n",
        "salarioBruto = 5000\n",
        "anoEntrada = 2000\n",
        "rg = '192528'\n",
        "dependentes = 5\n",
        "\n",
        "func1 = Funcionario(\n",
        "    nome, departamento, salarioBruto, \n",
        "    anoEntrada, rg, dependentes \n",
        "    )\n",
        "\n",
        "salario = func1.calcSalarioLiquido()\n",
        "tempo = func1.calcTempoServico()\n",
        "aumento = func1.calcAumento()\n",
        "info = func1.retornaInfo()\n",
        "statusFunc = func1.statusEmprego\n",
        "\n",
        "print('Resultado esperado: ')\n",
        "print('\\t O funcionário está empregado?: True')\n",
        "print('\\t Salario Liquido: 4845.00')\n",
        "print('\\t Tempo de serviço: 22 anos')\n",
        "print('\\t Aumento: 400.00')\n",
        "\n",
        "print('\\n\\tString retornada pelo método imprimir(): ')\n",
        "\n",
        "print('\\n' + 20*'-')\n",
        "print('Resultado retornado: ')\n",
        "print('\\t O funcionário está empregado?: %s' %(statusFunc))\n",
        "print('\\t Salario Liquido: %1.2f' %(salario))\n",
        "print('\\t Tempo de serviço: %d anos' %(tempo))\n",
        "print('\\t Aumento: %1.2f' %(aumento))\n",
        "\n",
        "print('\\nInformacoes da classe retornadas pela método retornaInfo: \\n%s' %(info))\n",
        "\n",
        "if not isinstance(info, str):\n",
        "    print('\\nAtenção. O valor retornado pelo método retornaInfo()')\n",
        "    print('da classe Funcionário deveria ser uma string')\n"
      ]
    },
    {
      "cell_type": "markdown",
      "metadata": {
        "id": "b1J7uDDIGImp"
      },
      "source": [
        "## Exercício 6 \n",
        "\n",
        "Cria uma função chamada **buscaBinaria**. Essa função deve modificar o algoritmo de busca binária para que retorne o índice da primeira e da última ocorrência de um número em uma lista. Por exemplo, se você informar a lista [1,2,3,3,3,4,5,6] e pedir para buscar o número 3, ele deverá retornar como resultado os valores 2 e 4, que correspondem respectivamente a posição da primeira e última posição onde o número 3 ocorreu. Se o número buscado não for encontrado, o algoritmo deverá retornar -1 e -1."
      ]
    },
    {
      "cell_type": "code",
      "execution_count": null,
      "metadata": {
        "id": "gwW0q-xaGImq",
        "colab": {
          "base_uri": "https://localhost:8080/"
        },
        "outputId": "e5d70ab9-ecc9-4990-fe0d-8662fad862c5"
      },
      "outputs": [
        {
          "output_type": "stream",
          "name": "stdout",
          "text": [
            "\n",
            "==============================\n",
            "Primeiro teste\n",
            "\n",
            "Resultado esperado:\n",
            "\tPrimeiro índice: 4\n",
            "\tÚltimo índice: 8\n",
            "\n",
            "--------------------\n",
            "Resultado retornado:\n",
            "\tPrimeiro índice: 4\n",
            "\tÚltimo índice: 8\n",
            "\n",
            "==============================\n",
            "Segundo teste\n",
            "\n",
            "Resultado esperado:\n",
            "\tPrimeiro índice: -1\n",
            "\tÚltimo índice: -1\n",
            "\n",
            "--------------------\n",
            "Resultado retornado:\n",
            "\tPrimeiro índice: -1\n",
            "\tÚltimo índice: -1\n"
          ]
        }
      ],
      "source": [
        "################# ESCREVA SEU CÓDIGO AQUI  ###############################\n",
        "\n",
        "def buscaBinariaUltimo (lista, num, start=0, end=0, trava=0):\n",
        "\n",
        "  if (end == 0 and trava == 0):\n",
        "    end = len(lista)\n",
        "\n",
        "  meio = (start+end) // 2\n",
        "  controle = lista[start:end]\n",
        "\n",
        "  # print(lista[start:e])\n",
        "  # print(meio)\n",
        "  # print(lista[meio])\n",
        "\n",
        "  if (lista[len(lista)-1] < num or num < lista[0]):\n",
        "    return -1\n",
        "  elif (len(controle) == 1):\n",
        "    if (controle[0] == num):\n",
        "      return meio\n",
        "    else:\n",
        "      return -1\n",
        "  \n",
        "  if (lista[meio] > num):\n",
        "    return buscaBinariaUltimo(lista,num, start, meio, 1)\n",
        "  \n",
        "  else:\n",
        "    return buscaBinariaUltimo(lista, num, meio, end, 1)\n",
        "\n",
        "def buscaBinariaPrimeiro (lista, num, start=0, end=0, trava=0):\n",
        "\n",
        "  if (end == 0 and trava == 0):\n",
        "    end = len(lista)\n",
        "\n",
        "  meio = (start+end) // 2\n",
        "  # print(lista[s:e])\n",
        "  # print(meio)\n",
        "  # print(lista[meio])\n",
        "  controle = lista[start:end]\n",
        "\n",
        "\n",
        "  if (lista[len(lista)-1] < num or num < lista[0]):\n",
        "    return -1\n",
        "  elif (len(controle) == 1):\n",
        "    if (controle[0] == num):\n",
        "      return meio\n",
        "    else:\n",
        "      return -1\n",
        "    \n",
        "  if (len(controle) == 2):\n",
        "    if (lista[meio] > num):\n",
        "      return buscaBinariaPrimeiro(lista,num, start, meio, 1)\n",
        "    \n",
        "    else:\n",
        "      return buscaBinariaPrimeiro(lista, num, meio, end, 1)\n",
        "\n",
        "  elif (lista[meio] >= num):\n",
        "    return buscaBinariaPrimeiro(lista,num, start, meio+1, 1)\n",
        "  \n",
        "  else:\n",
        "    return buscaBinariaPrimeiro(lista, num, meio, end, 1)\n",
        "\n",
        "def buscaBinaria (lista, num):\n",
        "  ultimo = buscaBinariaUltimo(lista, num);\n",
        "  primeiro = buscaBinariaPrimeiro(lista, num)\n",
        "\n",
        "  if (primeiro == -1 and ultimo != -1):\n",
        "    primeiro = ultimo\n",
        "  \n",
        "  elif (primeiro != -1 and ultimo == -1):\n",
        "    ultimo = primeiro\n",
        "  \n",
        "  return primeiro, ultimo\n",
        " \n",
        "##########################################################################\n",
        "\n",
        "# testando a função criada\n",
        "lista = [1,2,3,4,5,5,5,5,5,6,7,8,8,8,9,10]\n",
        "\n",
        "print('\\n' + 30*'=' + '\\nPrimeiro teste')\n",
        "numBuscado = 5\n",
        "firstIndex, lastIndex = buscaBinaria(lista, numBuscado)\n",
        "\n",
        "print('\\nResultado esperado:')\n",
        "print('\\tPrimeiro índice: 4')\n",
        "print('\\tÚltimo índice: 8')\n",
        "\n",
        "print('\\n' + 20*'-')\n",
        "print('Resultado retornado:' )\n",
        "print('\\tPrimeiro índice: %d' %(firstIndex))\n",
        "print('\\tÚltimo índice: %d' %(lastIndex))\n",
        "\n",
        "print('\\n' + 30*'=' + '\\nSegundo teste')\n",
        "numBuscado = 50\n",
        "firstIndex, lastIndex = buscaBinaria(lista, numBuscado)\n",
        "\n",
        "print('\\nResultado esperado:')\n",
        "print('\\tPrimeiro índice: -1')\n",
        "print('\\tÚltimo índice: -1')\n",
        "\n",
        "print('\\n' + 20*'-')\n",
        "print('Resultado retornado:' )\n",
        "print('\\tPrimeiro índice: %d' %(firstIndex))\n",
        "print('\\tÚltimo índice: %d' %(lastIndex))"
      ]
    },
    {
      "cell_type": "code",
      "execution_count": null,
      "metadata": {
        "id": "LeNXsokUGImr"
      },
      "outputs": [],
      "source": [
        ""
      ]
    }
  ],
  "metadata": {
    "kernelspec": {
      "display_name": "Python 3 (ipykernel)",
      "language": "python",
      "name": "python3"
    },
    "language_info": {
      "codemirror_mode": {
        "name": "ipython",
        "version": 3
      },
      "file_extension": ".py",
      "mimetype": "text/x-python",
      "name": "python",
      "nbconvert_exporter": "python",
      "pygments_lexer": "ipython3",
      "version": "3.8.8"
    },
    "colab": {
      "name": "Test AC1 Recursivity.ipynb",
      "provenance": [],
      "collapsed_sections": [],
      "include_colab_link": true
    }
  },
  "nbformat": 4,
  "nbformat_minor": 0
}